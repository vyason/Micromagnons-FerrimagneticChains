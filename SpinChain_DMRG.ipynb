{
 "cells": [
  {
   "cell_type": "code",
   "execution_count": null,
   "metadata": {},
   "outputs": [],
   "source": [
    "# Main code for analyzing Ferrimagnetism in alternating spin chains\n",
    "#-----------------------------------------------------------------------\n",
    "\n",
    "using ITensors,ITensorMPS\n",
    "import ITensors:op\n",
    "using PyFormattedStrings\n",
    "using HDF5\n",
    "\n",
    "ITensors.disable_warn_order()"
   ]
  },
  {
   "cell_type": "code",
   "execution_count": 16,
   "metadata": {},
   "outputs": [],
   "source": [
    "include(\"SiteType_ThreeHalf.jl\");       # define Tensor Operations for 3/2\n",
    "include(\"Operations_TwoSite.jl\");       # define two site operations\n",
    "include(\"Operations_FourSite.jl\");      # dfine four site operations\n",
    "include(\"Calculate_Entanglement.jl\");   # calculate entanglement of tensors"
   ]
  },
  {
   "cell_type": "code",
   "execution_count": null,
   "metadata": {},
   "outputs": [],
   "source": []
  },
  {
   "cell_type": "code",
   "execution_count": 17,
   "metadata": {},
   "outputs": [
    {
     "data": {
      "text/plain": [
       "MagnonOperation (generic function with 1 method)"
      ]
     },
     "execution_count": 17,
     "metadata": {},
     "output_type": "execute_result"
    }
   ],
   "source": [
    "# construction of different magon operators at various sites\n",
    "# wf = wave function in MPS form\n",
    "# k_list = list of sites where to create magnons\n",
    "# e.g. k_list = [A,B] creates a magnon at (A,A+1) and (B,B+1)\n",
    "# split = \"no\" is default. spilit = \"yes\" will do a split magnon\n",
    "#--------------------------------------------------------------------\n",
    "function MagnonOperation(wf::MPS, k_list; split=\"no\")    \n",
    "    psi = copy(wf)\n",
    "    sites = siteinds(psi)\n",
    "\n",
    "    #magnon creation at sites k,k+1\n",
    "    for k in k_list\n",
    "        if isodd(k)\n",
    "            psi = apply( op( \"S+\",sites[k]   ), psi )\n",
    "            psi = apply( op( \"S-\",sites[k+1] ), psi )\n",
    "        else\n",
    "            psi = apply( op( \"S-\",sites[k]   ), psi )\n",
    "            psi = apply( op( \"S+\",sites[k+1] ), psi )\n",
    "        end   \n",
    "    end\n",
    "\n",
    "    #for split magnon\n",
    "    if length(k_list)==2 && split==\"yes\"\n",
    "        m,n = k_list[1]+1, k_list[2]     #loc of desturction\n",
    "        \n",
    "        if isodd(m)\n",
    "            psi = apply( op(\"S-\",sites[m]), psi )\n",
    "        else\n",
    "            psi = apply( op(\"S+\",sites[m]), psi )\n",
    "        end\n",
    "\n",
    "        if isodd(n)\n",
    "            psi = apply( op(\"S-\",sites[n]), psi )\n",
    "        else\n",
    "            psi = apply( op(\"S+\",sites[n]), psi )\n",
    "        end\n",
    "    end\n",
    "\n",
    "    return normalize!(psi)\n",
    "    #----------------------------------\n",
    "end\n"
   ]
  },
  {
   "cell_type": "code",
   "execution_count": 7,
   "metadata": {},
   "outputs": [
    {
     "data": {
      "text/plain": [
       "Hamiltonian (generic function with 1 method)"
      ]
     },
     "execution_count": 7,
     "metadata": {},
     "output_type": "execute_result"
    }
   ],
   "source": [
    "# construction of the MPO hamiltonian\n",
    "# sites =  all sites,\n",
    "# J = hoppings between different spins\n",
    "# B = coupling to external magnetic field\n",
    "#------------------------------------------\n",
    "function Hamiltonian(sites,J,B, type)\n",
    "    ops = OpSum()\n",
    "    N = length(sites)\n",
    "\n",
    "    for k in 1:N\n",
    "        ops +=  -B,   \"Sz\",k\n",
    "    end\n",
    "\n",
    "    for k in 1:N-1\n",
    "        ops += J,       \"Sz\",k,     \"Sz\",k+1\n",
    "        ops += J/2,     \"S+\",k,     \"S-\",k+1\n",
    "        ops += J/2,     \"S-\",k,     \"S+\",k+1\n",
    "    end\n",
    "\n",
    "    if type==\"Loop\"\n",
    "        ops += J,       \"Sz\",N,     \"Sz\",1\n",
    "        ops += J/2,     \"S+\",N,     \"S-\",1\n",
    "        ops += J/2,     \"S-\",N,     \"S+\",1\n",
    "    end\n",
    "\n",
    "\n",
    "    #--------------------------\n",
    "    return MPO(ops,sites)\n",
    "end"
   ]
  },
  {
   "cell_type": "code",
   "execution_count": 13,
   "metadata": {},
   "outputs": [],
   "source": [
    "#define the parameters of the hamiltonian and constuct MPO\n",
    "#----------------------------------------------------------------------------\n",
    "\n",
    "nsweeps = 10\n",
    "cut_off  = [1E-10]   # error cutoff\n",
    "maxdim  = [50,100,150,200,250,300,400,500,600,800,1000]\n",
    "\n",
    "N = 10\n",
    "J = 1\n",
    "B = 1\n",
    "type = \"Open\"       #specify Open/Loop for open and closed chains\n",
    "\n",
    "\n",
    "sites = siteinds( k->isodd(k) ? \"S=1/2\" : \"S=3/2\", N ) ;\n",
    "\n",
    "#Neel = productMPS( sites, k->isodd(k) ? \"Dn\" : \"+3/2\" ) ; "
   ]
  },
  {
   "cell_type": "code",
   "execution_count": 19,
   "metadata": {},
   "outputs": [
    {
     "name": "stdout",
     "output_type": "stream",
     "text": [
      "After sweep 1 energy=-14.099063482633055  maxlinkdim=50 maxerr=2.85E-04 time=7.710\n",
      "After sweep 2 energy=-14.09933141090861  maxlinkdim=20 maxerr=9.38E-11 time=0.032\n",
      "After sweep 3 energy=-14.099331438165642  maxlinkdim=14 maxerr=9.89E-11 time=0.007\n",
      "After sweep 4 energy=-14.09933143816685  maxlinkdim=14 maxerr=9.88E-11 time=0.007\n",
      "After sweep 5 energy=-14.099331438166825  maxlinkdim=14 maxerr=9.88E-11 time=0.007\n",
      "After sweep 6 energy=-14.09933143816686  maxlinkdim=14 maxerr=9.88E-11 time=0.008\n",
      "After sweep 7 energy=-14.09933143816685  maxlinkdim=14 maxerr=9.88E-11 time=0.006\n",
      "After sweep 8 energy=-14.09933143816685  maxlinkdim=14 maxerr=9.88E-11 time=0.007\n",
      "After sweep 9 energy=-14.099331438166857  maxlinkdim=14 maxerr=9.88E-11 time=0.007\n",
      "After sweep 10 energy=-14.099331438166855  maxlinkdim=14 maxerr=9.88E-11 time=0.007\n"
     ]
    },
    {
     "data": {
      "text/plain": [
       "(-14.099331438166855, MPS\n",
       "[1] ((dim=2|id=889|\"Link,l=1\"), (dim=2|id=798|\"S=1/2,Site,n=1\"))\n",
       "[2] ((dim=7|id=883|\"Link,l=2\"), (dim=4|id=68|\"S=3/2,Site,n=2\"), (dim=2|id=889|\"Link,l=1\"))\n",
       "[3] ((dim=2|id=228|\"S=1/2,Site,n=3\"), (dim=10|id=758|\"Link,l=3\"), (dim=7|id=883|\"Link,l=2\"))\n",
       "[4] ((dim=4|id=209|\"S=3/2,Site,n=4\"), (dim=14|id=606|\"Link,l=4\"), (dim=10|id=758|\"Link,l=3\"))\n",
       "[5] ((dim=2|id=668|\"S=1/2,Site,n=5\"), (dim=13|id=210|\"Link,l=5\"), (dim=14|id=606|\"Link,l=4\"))\n",
       "[6] ((dim=4|id=576|\"S=3/2,Site,n=6\"), (dim=12|id=489|\"Link,l=6\"), (dim=13|id=210|\"Link,l=5\"))\n",
       "[7] ((dim=2|id=909|\"S=1/2,Site,n=7\"), (dim=10|id=991|\"Link,l=7\"), (dim=12|id=489|\"Link,l=6\"))\n",
       "[8] ((dim=4|id=84|\"S=3/2,Site,n=8\"), (dim=6|id=587|\"Link,l=8\"), (dim=10|id=991|\"Link,l=7\"))\n",
       "[9] ((dim=2|id=370|\"S=1/2,Site,n=9\"), (dim=3|id=558|\"Link,l=9\"), (dim=6|id=587|\"Link,l=8\"))\n",
       "[10] ((dim=4|id=34|\"S=3/2,Site,n=10\"), (dim=3|id=558|\"Link,l=9\"))\n",
       ")"
      ]
     },
     "execution_count": 19,
     "metadata": {},
     "output_type": "execute_result"
    }
   ],
   "source": [
    "H = Hamiltonian(sites,J,B, type) ;\n",
    "energy,psi0 = dmrg( H, random_mps(sites,linkdims=maxdim[1]); nsweeps, maxdim, cutoff=cut_off, ishermitian=true )"
   ]
  },
  {
   "cell_type": "code",
   "execution_count": 20,
   "metadata": {},
   "outputs": [
    {
     "data": {
      "text/plain": [
       "6-element Vector{Float64}:\n",
       " 0.6583426786383081\n",
       " 0.3914201090682962\n",
       " 0.2397642441794473\n",
       " 0.19367729984733098\n",
       " 0.16116996809035594\n",
       " 0.14350185648077937"
      ]
     },
     "execution_count": 20,
     "metadata": {},
     "output_type": "execute_result"
    }
   ],
   "source": [
    "Entanglement = [ calc_LogNeg_FourSite(psi0,[1,3+D]) for D in 0:5 ]"
   ]
  },
  {
   "cell_type": "code",
   "execution_count": null,
   "metadata": {},
   "outputs": [],
   "source": []
  }
 ],
 "metadata": {
  "kernelspec": {
   "display_name": "Julia 1.11.2",
   "language": "julia",
   "name": "julia-1.11"
  },
  "language_info": {
   "file_extension": ".jl",
   "mimetype": "application/julia",
   "name": "julia",
   "version": "1.11.2"
  }
 },
 "nbformat": 4,
 "nbformat_minor": 2
}
